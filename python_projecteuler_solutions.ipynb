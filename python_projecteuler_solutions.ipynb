{
 "cells": [
  {
   "cell_type": "markdown",
   "metadata": {},
   "source": [
    "# Project Euler Solutions\n",
    "These are my solutions using Python 3.6 to the problems located at [Project Euler](https://projecteuler.net/)"
   ]
  },
  {
   "cell_type": "markdown",
   "metadata": {},
   "source": [
    "### Helper Functions"
   ]
  },
  {
   "cell_type": "code",
   "execution_count": 1,
   "metadata": {
    "collapsed": true
   },
   "outputs": [],
   "source": [
    "import time\n",
    "\n",
    "def time_execution(code):\n",
    "    \"\"\"\n",
    "    Function to time code execution.\n",
    "    \n",
    "    Args:\n",
    "        code: Function to be tested along with its appropriate arguments if any.\n",
    "    \n",
    "    Returns:\n",
    "        results: Output of the tested function.\n",
    "        run_time: Time it took for the function to execute.\n",
    "    \"\"\"\n",
    "    start = time.clock()\n",
    "    result = eval(code)\n",
    "    run_time = time.clock() - start\n",
    "    \n",
    "    return result, run_time"
   ]
  },
  {
   "cell_type": "markdown",
   "metadata": {},
   "source": [
    "## Problem 0001 - Multiples of 3 and 5\n",
    "If we list all the natural numbers below 10 that are multiples of 3 or 5, we get 3, 5, 6 and 9. The sum of these multiples is 23. Find the sum of all the multiples of 3 or 5 below 1000."
   ]
  },
  {
   "cell_type": "code",
   "execution_count": 2,
   "metadata": {},
   "outputs": [
    {
     "name": "stdout",
     "output_type": "stream",
     "text": [
      "(233168, 0.00017788336351694134)\n"
     ]
    }
   ],
   "source": [
    "def problem0001():\n",
    "    result = 0\n",
    "    for i in range(1,1000):\n",
    "        if i % 3 == 0 or i % 5 == 0:\n",
    "            result += i\n",
    "    return result\n",
    "\n",
    "print(time_execution(\"problem0001()\"))"
   ]
  },
  {
   "cell_type": "code",
   "execution_count": null,
   "metadata": {
    "collapsed": true
   },
   "outputs": [],
   "source": []
  }
 ],
 "metadata": {
  "kernelspec": {
   "display_name": "Python 3",
   "language": "python",
   "name": "python3"
  },
  "language_info": {
   "codemirror_mode": {
    "name": "ipython",
    "version": 3
   },
   "file_extension": ".py",
   "mimetype": "text/x-python",
   "name": "python",
   "nbconvert_exporter": "python",
   "pygments_lexer": "ipython3",
   "version": "3.6.2"
  }
 },
 "nbformat": 4,
 "nbformat_minor": 2
}
